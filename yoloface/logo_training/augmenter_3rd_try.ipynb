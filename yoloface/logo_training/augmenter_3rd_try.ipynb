{
 "cells": [
  {
   "cell_type": "code",
   "execution_count": 30,
   "metadata": {
    "scrolled": true
   },
   "outputs": [],
   "source": [
    "import numpy as np\n",
    "import cv2\n",
    "from imgaug import augmenters as iaa\n",
    "import imgaug as ia\n",
    "\n",
    "\n",
    "f = open('train_aug_9.txt','w')\n",
    "f2 = open('train.txt','r')\n",
    "\n",
    "ia.seed(90)\n",
    "\n",
    "\n",
    "seq = iaa.Sequential([ \n",
    "    iaa.Multiply((0.8, 1.2), per_channel=0.2),\n",
    "    # Apply affine transformations to each image.\n",
    "    # Scale/zoom them, translate/move them, rotate them and shear them.\n",
    "    iaa.Affine(\n",
    "        scale={\"x\": (0.5, 1.0), \"y\": (0.5, 1.0)},\n",
    "        translate_percent={\"x\": (-0.2, 0.2), \"y\": (-0.2, 0.2)},\n",
    "        rotate=(-90, 90),\n",
    "        shear=(-8, 8)\n",
    "    )],\n",
    "    random_order=True)  # apply augmenters in random order\n",
    "\n",
    "seq = seq.to_deterministic()\n",
    "\n",
    "\n",
    "while True:\n",
    "    entire = f2.readline()\n",
    "    if entire is '':\n",
    "        break\n",
    "    sp = entire.split()\n",
    "    fname = sp[0].split('/')\n",
    "    \n",
    "    images = []\n",
    "    img = cv2.imread(sp[0])\n",
    "    images.append(img)\n",
    "    \n",
    "    coods = []\n",
    "    \n",
    "    if len(sp) > 2:\n",
    "        for i in range(1,len(sp)):\n",
    "            cood = sp[i].split(',')\n",
    "            coods.append(cood)\n",
    "    else:\n",
    "        cood = sp[-1].split(',')\n",
    "        coods.append(cood)    \n",
    "        \n",
    "#    if len(sp) >2:\n",
    "    bbs = ia.BoundingBoxesOnImage([\n",
    "        ia.BoundingBox(x1=coods[i][0], y1=coods[i][1], x2=coods[i][2], y2=coods[i][3],label=coods[i][4]) for i in range(len(sp)-1)\n",
    "    ], shape=img.shape)\n",
    "\n",
    "    images_aug = seq.augment_images(images)\n",
    "    bbs_aug = seq.augment_bounding_boxes([bbs])[0].remove_out_of_image().clip_out_of_image()\n",
    "    \n",
    "    cv2.imwrite('aug/%s_9.jpg'%(fname[-1][:-4]),images_aug[0])\n",
    "    data = 'dataset/%s_9.jpg'%(fname[-1][:-4])\n",
    "    for i in range(len(bbs_aug.bounding_boxes)):\n",
    "        test = bbs_aug.bounding_boxes[i]\n",
    "        data = data + ' %d,%d,%d,%d,%d'%(int(test.x1),int(test.y1),int(test.x2),int(test.y2),int(test.label))\n",
    "    data = data+'\\n'\n",
    "    f.write(data)\n",
    "\n",
    "f.close()\n",
    "f2.close()"
   ]
  },
  {
   "cell_type": "code",
   "execution_count": 12,
   "metadata": {},
   "outputs": [],
   "source": [
    "f.close()\n",
    "f2.close()"
   ]
  },
  {
   "cell_type": "code",
   "execution_count": null,
   "metadata": {},
   "outputs": [],
   "source": []
  }
 ],
 "metadata": {
  "kernelspec": {
   "display_name": "tf3",
   "language": "python",
   "name": "tf3"
  },
  "language_info": {
   "codemirror_mode": {
    "name": "ipython",
    "version": 3
   },
   "file_extension": ".py",
   "mimetype": "text/x-python",
   "name": "python",
   "nbconvert_exporter": "python",
   "pygments_lexer": "ipython3",
   "version": "3.6.7"
  }
 },
 "nbformat": 4,
 "nbformat_minor": 2
}
