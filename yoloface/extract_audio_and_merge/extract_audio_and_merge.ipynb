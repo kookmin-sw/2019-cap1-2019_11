{
  "nbformat": 4,
  "nbformat_minor": 0,
  "metadata": {
    "colab": {
      "name": "extract_audio_and_merge.ipynb",
      "version": "0.3.2",
      "provenance": []
    },
    "kernelspec": {
      "name": "python3",
      "display_name": "Python 3"
    }
  },
  "cells": [
    {
      "metadata": {
        "id": "k8EqciC0Mw9m",
        "colab_type": "code",
        "colab": {
          "base_uri": "https://localhost:8080/",
          "height": 89
        },
        "outputId": "bc1b2c71-282b-4a96-8330-4dfc47e6e8ee"
      },
      "cell_type": "code",
      "source": [
        "from moviepy.video.io.ffmpeg_tools import *\n",
        "\n",
        "ffmpeg_extract_audio(\"deborah.mpeg\", \"output1.wav\", bitrate=3000, fps=44100)\n"
      ],
      "execution_count": 2,
      "outputs": [
        {
          "output_type": "stream",
          "text": [
            "\n",
            "[MoviePy] Running:\n",
            ">>> /usr/bin/ffmpeg -y -i deborah.mpeg -ab 3000k -ar 44100 output1.wav\n",
            "... command successful.\n"
          ],
          "name": "stdout"
        }
      ]
    },
    {
      "metadata": {
        "id": "tf6PIK9ZNMuK",
        "colab_type": "code",
        "colab": {
          "base_uri": "https://localhost:8080/",
          "height": 89
        },
        "outputId": "1fec26f1-830c-4b51-d4e2-8e7d198ba34a"
      },
      "cell_type": "code",
      "source": [
        "from moviepy.video.io.ffmpeg_tools import *\n",
        "\n",
        "ffmpeg_merge_video_audio('deborah_nosound.mpeg', 'output1.wav','output.mkv')"
      ],
      "execution_count": 3,
      "outputs": [
        {
          "output_type": "stream",
          "text": [
            "\n",
            "[MoviePy] Running:\n",
            ">>> /usr/bin/ffmpeg -y -i output1.wav -i deborah_nosound.mpeg -vcodec copy -acodec copy output.mkv\n",
            "... command successful.\n"
          ],
          "name": "stdout"
        }
      ]
    }
  ]
}